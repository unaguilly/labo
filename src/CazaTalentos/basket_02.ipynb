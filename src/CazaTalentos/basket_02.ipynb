{
 "cells": [
  {
   "cell_type": "code",
   "execution_count": 1,
   "metadata": {},
   "outputs": [],
   "source": [
    "import  numpy as np\n",
    "\n",
    "np.random.seed(102191)"
   ]
  },
  {
   "cell_type": "code",
   "execution_count": 2,
   "metadata": {},
   "outputs": [],
   "source": [
    "#calcula cuantos encestes logra un jugador con indice de enceste prob\n",
    "#haciendo qyt tiros libres\n",
    "\n",
    "def ftirar(prob, qty):\n",
    "    return sum(np.random.rand(qty) < prob)"
   ]
  },
  {
   "cell_type": "code",
   "execution_count": 14,
   "metadata": {},
   "outputs": [
    {
     "data": {
      "text/plain": [
       "array([ True,  True,  True,  True, False, False,  True,  True,  True,\n",
       "       False])"
      ]
     },
     "execution_count": 14,
     "metadata": {},
     "output_type": "execute_result"
    }
   ],
   "source": [
    "np.random.rand(10) < 0.7\n"
   ]
  },
  {
   "cell_type": "code",
   "execution_count": 3,
   "metadata": {},
   "outputs": [],
   "source": [
    "#defino los jugadores\n",
    "mejor = 0.7\n",
    "peloton = np.array(range(501, 600)) / 1000\n",
    "jugadores = np.append(mejor, peloton)"
   ]
  },
  {
   "cell_type": "code",
   "execution_count": 4,
   "metadata": {},
   "outputs": [],
   "source": [
    "#vectorizo la funcion  ftirar\n",
    "vec_ftirar = np.vectorize(ftirar)"
   ]
  },
  {
   "cell_type": "code",
   "execution_count": 5,
   "metadata": {},
   "outputs": [
    {
     "name": "stdout",
     "output_type": "stream",
     "text": [
      "1358\n"
     ]
    }
   ],
   "source": [
    "#hago que los 100 jugadores tiren 10 veces cada uno\n",
    "vec_ftirar(jugadores, 10)\n"
   ]
  },
  {
   "cell_type": "code",
   "execution_count": 5,
   "metadata": {},
   "outputs": [
    {
     "name": "stdout",
     "output_type": "stream",
     "text": [
      "1358\n"
     ]
    }
   ],
   "source": [
    "\n",
    "primero_ganador = 0\n",
    "\n",
    "for i in range(10000): #diez mil experimentos\n",
    "    vaciertos = vec_ftirar(jugadores, 10) #10 tiros libres cada jugador\n",
    "    mejor = np.argmax(vaciertos)\n",
    "    if mejor == 0:\n",
    "        primero_ganador += 1\n",
    "\n",
    "\n",
    "\n",
    "\n",
    "print(primero_ganador)"
   ]
  },
  {
   "cell_type": "code",
   "execution_count": 8,
   "metadata": {},
   "outputs": [
    {
     "name": "stdout",
     "output_type": "stream",
     "text": [
      "9 \t 7\n",
      "9 \t 3\n",
      "9 \t 3\n",
      "10 \t 7\n",
      "9 \t 4\n",
      "9 \t 6\n",
      "10 \t 3\n",
      "10 \t 4\n",
      "10 \t 5\n",
      "9 \t 6\n"
     ]
    }
   ],
   "source": [
    "for i in range(10):\n",
    "  vaciertos = vec_ftirar(jugadores, 10) #10 tiros libres cada jugador\n",
    "  mejor = np.argmax(vaciertos)\n",
    "  aciertos_torneo = vaciertos[mejor]\n",
    "  aciertos_segunda = vec_ftirar(jugadores[mejor], 10)\n",
    "  print(aciertos_torneo, \"\\t\", aciertos_segunda)"
   ]
  }
 ],
 "metadata": {
  "kernelspec": {
   "display_name": "Python 3.8.5 ('base')",
   "language": "python",
   "name": "python3"
  },
  "language_info": {
   "codemirror_mode": {
    "name": "ipython",
    "version": 3
   },
   "file_extension": ".py",
   "mimetype": "text/x-python",
   "name": "python",
   "nbconvert_exporter": "python",
   "pygments_lexer": "ipython3",
   "version": "3.8.5"
  },
  "vscode": {
   "interpreter": {
    "hash": "d12990cfb6f9744de5e69ea532f64730ceb2248e3d88cd34f75058ebea38e5ca"
   }
  }
 },
 "nbformat": 4,
 "nbformat_minor": 4
}
