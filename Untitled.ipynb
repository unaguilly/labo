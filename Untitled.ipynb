{
 "cells": [
  {
   "cell_type": "code",
   "execution_count": 42,
   "id": "36e815c9-8fa4-42a2-a368-3e36115cf0d4",
   "metadata": {},
   "outputs": [],
   "source": [
    "from dask import delayed\n",
    "import pandas as pd\n",
    "from sklearn import metrics\n",
    "import dask"
   ]
  },
  {
   "cell_type": "code",
   "execution_count": 38,
   "id": "01ce798b-a279-451f-adc0-3ab5ebb99089",
   "metadata": {},
   "outputs": [],
   "source": [
    "from dask.distributed import Client\n",
    "\n",
    "client = Client(n_workers=4)"
   ]
  },
  {
   "cell_type": "code",
   "execution_count": 39,
   "id": "6377b02b-92a2-4826-8ee8-15f0fdae1a9e",
   "metadata": {},
   "outputs": [],
   "source": [
    "def silo(DMA):\n",
    "    df_DMA = pd.read_csv(f'/Users/berna/proyectos/DBSCAN_metrics/DMA{DMA}.csv')    \n",
    "    df_DMA = df_DMA[['POSTALCODE',\n",
    "                    'DATE',\n",
    "                    'IP',\n",
    "                    'CTVS_IP',\n",
    "                    'UA_IP',\n",
    "                    'IMPRESSIONS_COUNT',\n",
    "                    'SESSIONID_COUNT',\n",
    "                    'CLIENTID_COUNT',\n",
    "                    'VIDEOID_COUNT',\n",
    "                    'OS_COUNT',\n",
    "                    'PUBLISHER_COUNT',\n",
    "                    \"CLUST\"]]\n",
    "    df_DMA = df_DMA.dropna()\n",
    "    if (len(df_DMA > 0)):\n",
    "        print(DMA)\n",
    "        sil = metrics.silhouette_score(df_DMA, df_DMA[\"CLUST\"])\n",
    "    \n",
    "        return sil"
   ]
  },
  {
   "cell_type": "code",
   "execution_count": 35,
   "id": "536f88f8-35a5-4462-a7ba-74b59dcd33be",
   "metadata": {},
   "outputs": [],
   "source": [
    "DMA_list = pd.read_csv('/Users/berna/Downloads/DBSCAN (stored procedure FINAL) (1).csv').head()"
   ]
  },
  {
   "cell_type": "code",
   "execution_count": 36,
   "id": "b6496389-287f-4800-b3db-bdad641ba416",
   "metadata": {},
   "outputs": [],
   "source": [
    "DMA_list = DMA_list.SYNTETIC_DMA"
   ]
  },
  {
   "cell_type": "code",
   "execution_count": 55,
   "id": "54b043a6-a5ba-4dd6-8cac-df12035847e9",
   "metadata": {},
   "outputs": [],
   "source": [
    "DMA_list = ['-627',\n",
    "'-566',\n",
    "'-10-MY',\n",
    "'-552',\n",
    "'-526',\n",
    "'-789']"
   ]
  },
  {
   "cell_type": "code",
   "execution_count": 48,
   "id": "cb03944a-93ce-4d98-8383-138a762ea206",
   "metadata": {},
   "outputs": [],
   "source": [
    "DMA_list = ['-627']"
   ]
  },
  {
   "cell_type": "code",
   "execution_count": 59,
   "id": "c9e7b606-7a96-4abf-bebe-6b64b2f9dc80",
   "metadata": {},
   "outputs": [
    {
     "name": "stdout",
     "output_type": "stream",
     "text": [
      "CPU times: user 9.31 ms, sys: 270 µs, total: 9.58 ms\n",
      "Wall time: 3.35 ms\n"
     ]
    }
   ],
   "source": [
    "%%time\n",
    "DMA_silo = pd.DataFrame(columns = ['DMA','SILHOUETTE'])           \n",
    "#DMA_silo = DMA_silo.append(temp, ignore_index = True)\n",
    "result = []\n",
    "for DMA in DMA_list:\n",
    "    temp = delayed(silo)(DMA)\n",
    "    result.append(temp)"
   ]
  },
  {
   "cell_type": "code",
   "execution_count": 60,
   "id": "fc790e6a-ace8-4c80-a924-96f781b8dcfa",
   "metadata": {},
   "outputs": [
    {
     "name": "stdout",
     "output_type": "stream",
     "text": [
      "CPU times: user 22min 31s, sys: 9min 11s, total: 31min 43s\n",
      "Wall time: 23min\n"
     ]
    },
    {
     "data": {
      "text/plain": [
       "([0.7028979406197857,\n",
       "  0.8191369065571672,\n",
       "  0.5729050686672628,\n",
       "  0.6640760877696253,\n",
       "  0.7515589750503358,\n",
       "  0.7453491912816922],)"
      ]
     },
     "execution_count": 60,
     "metadata": {},
     "output_type": "execute_result"
    }
   ],
   "source": [
    "%%time\n",
    "dask.compute(result)"
   ]
  },
  {
   "cell_type": "code",
   "execution_count": 56,
   "id": "30198e07-9035-49ba-b8e3-6d8d90c61cdb",
   "metadata": {},
   "outputs": [
    {
     "name": "stdout",
     "output_type": "stream",
     "text": [
      "-627\n"
     ]
    },
    {
     "name": "stderr",
     "output_type": "stream",
     "text": [
      "<timed exec>:22: FutureWarning: The frame.append method is deprecated and will be removed from pandas in a future version. Use pandas.concat instead.\n"
     ]
    },
    {
     "name": "stdout",
     "output_type": "stream",
     "text": [
      "-566\n"
     ]
    },
    {
     "name": "stderr",
     "output_type": "stream",
     "text": [
      "<timed exec>:22: FutureWarning: The frame.append method is deprecated and will be removed from pandas in a future version. Use pandas.concat instead.\n"
     ]
    },
    {
     "name": "stdout",
     "output_type": "stream",
     "text": [
      "-10-MY\n"
     ]
    },
    {
     "name": "stderr",
     "output_type": "stream",
     "text": [
      "<timed exec>:22: FutureWarning: The frame.append method is deprecated and will be removed from pandas in a future version. Use pandas.concat instead.\n"
     ]
    },
    {
     "name": "stdout",
     "output_type": "stream",
     "text": [
      "-552\n"
     ]
    },
    {
     "name": "stderr",
     "output_type": "stream",
     "text": [
      "<timed exec>:22: FutureWarning: The frame.append method is deprecated and will be removed from pandas in a future version. Use pandas.concat instead.\n"
     ]
    },
    {
     "name": "stdout",
     "output_type": "stream",
     "text": [
      "-526\n"
     ]
    },
    {
     "name": "stderr",
     "output_type": "stream",
     "text": [
      "<timed exec>:22: FutureWarning: The frame.append method is deprecated and will be removed from pandas in a future version. Use pandas.concat instead.\n"
     ]
    },
    {
     "name": "stdout",
     "output_type": "stream",
     "text": [
      "-789\n",
      "CPU times: user 1h 11min 57s, sys: 55min 43s, total: 2h 7min 41s\n",
      "Wall time: 34min 33s\n"
     ]
    },
    {
     "name": "stderr",
     "output_type": "stream",
     "text": [
      "<timed exec>:22: FutureWarning: The frame.append method is deprecated and will be removed from pandas in a future version. Use pandas.concat instead.\n"
     ]
    }
   ],
   "source": [
    "%%time\n",
    "DMA_silo = pd.DataFrame(columns = ['DMA','SILHOUETTE'])\n",
    "for DMA in DMA_list:\n",
    "    df_DMA = pd.read_csv(f'/Users/berna/proyectos/DBSCAN_metrics/DMA{DMA}.csv')    \n",
    "    df_DMA = df_DMA[['POSTALCODE',\n",
    "                    'DATE',\n",
    "                    'IP',\n",
    "                    'CTVS_IP',\n",
    "                    'UA_IP',\n",
    "                    'IMPRESSIONS_COUNT',\n",
    "                    'SESSIONID_COUNT',\n",
    "                    'CLIENTID_COUNT',\n",
    "                    'VIDEOID_COUNT',\n",
    "                    'OS_COUNT',\n",
    "                    'PUBLISHER_COUNT',\n",
    "                    \"CLUST\"]]\n",
    "    df_DMA = df_DMA.dropna()\n",
    "    if (len(df_DMA > 0)):\n",
    "        print(DMA)\n",
    "        sil = metrics.silhouette_score(df_DMA, df_DMA[\"CLUST\"])\n",
    "        temp = pd.DataFrame(columns = ['DMA','SILHOUETTE'])\n",
    "        temp.loc[0] =[DMA,sil]\n",
    "        DMA_silo = DMA_silo.append(temp, ignore_index = True)"
   ]
  }
 ],
 "metadata": {
  "kernelspec": {
   "display_name": "Python 3.8.8 64-bit ('sk-dist': venv)",
   "language": "python",
   "name": "python3"
  },
  "language_info": {
   "codemirror_mode": {
    "name": "ipython",
    "version": 3
   },
   "file_extension": ".py",
   "mimetype": "text/x-python",
   "name": "python",
   "nbconvert_exporter": "python",
   "pygments_lexer": "ipython3",
   "version": "3.8.8"
  },
  "vscode": {
   "interpreter": {
    "hash": "da61766de9b85ce22a37ac48179c9cdec1d3dede876e548bf5290de265ad3629"
   }
  }
 },
 "nbformat": 4,
 "nbformat_minor": 5
}
